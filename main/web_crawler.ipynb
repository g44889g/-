{
 "cells": [
  {
   "cell_type": "code",
   "execution_count": null,
   "metadata": {},
   "outputs": [],
   "source": [
    "from bs4 import BeautifulSoup\n",
    "from selenium.webdriver.chrome.options import Options\n",
    "from selenium import webdriver\n",
    "import time"
   ]
  },
  {
   "cell_type": "code",
   "execution_count": null,
   "metadata": {},
   "outputs": [
    {
     "name": "stdout",
     "output_type": "stream",
     "text": [
      "標題：倫敦鋁現貨價 --- 價格走勢圖\n",
      "內容：2,617.5美元(元/噸)\n",
      "----------------------------------------\n",
      "標題：倫敦高級銅極現貨價 --- 價格走勢圖\n",
      "內容：9,427.0美元(元/噸)\n",
      "----------------------------------------\n"
     ]
    }
   ],
   "source": [
    "# 設定 Selenium WebDriver 的無頭模式\n",
    "chrome_options = Options()\n",
    "chrome_options.add_argument(\"--headless\")  # 加入無頭模式\n",
    "chrome_options.add_argument(\"--disable-gpu\")  # 若在 Windows 上，避免圖形錯誤\n",
    "chrome_options.add_argument(\"--no-sandbox\")  # 防止沙箱問題\n",
    "\n",
    "# 初始化 WebDriver 並套用無頭選項\n",
    "driver = webdriver.Chrome(options=chrome_options)\n",
    "\n",
    "# 要爬取的網站清單\n",
    "urls = [\n",
    "    \"https://fubon-ebrokerdj.fbs.com.tw/z/ze/zeq/zeqa_D0990050.djhtm\",\n",
    "    \"https://fubon-ebrokerdj.fbs.com.tw/z/ze/zeq/zeqa_D0160190.djhtm\",\n",
    "]\n",
    "\n",
    "\n",
    "# 定義一個函數來爬取指定網址的 <center> 標題和 span[class=\"field\"] 內容\n",
    "def scrape_fields(url):\n",
    "    driver.get(url)\n",
    "    time.sleep(3)  # 等待網頁載入\n",
    "    soup = BeautifulSoup(driver.page_source, \"html.parser\")\n",
    "\n",
    "    # 抓取 <center> 元素的內容作為標題\n",
    "    center_content = soup.find(\"center\")\n",
    "    title = center_content.get_text(strip=True) if center_content else \"標題未知\"\n",
    "    print(f\"標題：{title}\")\n",
    "\n",
    "    # 抓取 span[class=\"field\"] 元素的內容\n",
    "    fields = soup.find_all(\"span\", class_=\"field\")\n",
    "    for field in fields:\n",
    "        print(f\"內容：{field.get_text(strip=True)}\")\n",
    "\n",
    "\n",
    "# 逐一爬取網址\n",
    "for url in urls:\n",
    "    scrape_fields(url)\n",
    "    print(\"-\" * 40)  # 分隔線，便於閱讀\n",
    "\n",
    "# 關閉瀏覽器\n",
    "driver.quit()"
   ]
  }
 ],
 "metadata": {
  "kernelspec": {
   "display_name": "web_scraping",
   "language": "python",
   "name": "python3"
  },
  "language_info": {
   "codemirror_mode": {
    "name": "ipython",
    "version": 3
   },
   "file_extension": ".py",
   "mimetype": "text/x-python",
   "name": "python",
   "nbconvert_exporter": "python",
   "pygments_lexer": "ipython3",
   "version": "3.10.14"
  }
 },
 "nbformat": 4,
 "nbformat_minor": 2
}
